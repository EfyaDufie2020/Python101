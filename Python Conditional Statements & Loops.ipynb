{
 "cells": [
  {
   "cell_type": "markdown",
   "id": "9c6e9c36",
   "metadata": {},
   "source": [
    "# Conditional Statements "
   ]
  },
  {
   "cell_type": "code",
   "execution_count": 1,
   "id": "3dd374d8",
   "metadata": {},
   "outputs": [
    {
     "name": "stdout",
     "output_type": "stream",
     "text": [
      "You look good\n",
      "40\n",
      "Goodbye\n"
     ]
    }
   ],
   "source": [
    "Age=40\n",
    "if Age:\n",
    "    print('You look good')\n",
    "    print(Age)\n",
    "print('Goodbye')"
   ]
  },
  {
   "cell_type": "code",
   "execution_count": 2,
   "id": "64142f36",
   "metadata": {},
   "outputs": [
    {
     "data": {
      "text/plain": [
       "str"
      ]
     },
     "execution_count": 2,
     "metadata": {},
     "output_type": "execute_result"
    }
   ],
   "source": [
    "str(100)\n",
    "type(str(100))"
   ]
  },
  {
   "cell_type": "code",
   "execution_count": 3,
   "id": "1c2681ea",
   "metadata": {},
   "outputs": [
    {
     "data": {
      "text/plain": [
       "int"
      ]
     },
     "execution_count": 3,
     "metadata": {},
     "output_type": "execute_result"
    }
   ],
   "source": [
    "int('100')\n",
    "type(int('100'))"
   ]
  },
  {
   "cell_type": "markdown",
   "id": "7ba25307",
   "metadata": {},
   "source": [
    "# If & Else"
   ]
  },
  {
   "cell_type": "code",
   "execution_count": 4,
   "id": "82c6e884",
   "metadata": {},
   "outputs": [
    {
     "name": "stdout",
     "output_type": "stream",
     "text": [
      "Total Amount Spent:1000\n",
      "Your discount is: 100.0\n",
      "You pay only: 900.0\n"
     ]
    }
   ],
   "source": [
    "amount=int(input('Total Amount Spent:'))\n",
    "if amount==1000:\n",
    "     discount=amount*0.1\n",
    "     print('Your discount is:', discount)\n",
    "     amount_payable=amount-discount\n",
    "     print('You pay only:',amount_payable)\n",
    "\n",
    "else:\n",
    "    print('Better Luck next time')\n"
   ]
  },
  {
   "cell_type": "markdown",
   "id": "8834daea",
   "metadata": {},
   "source": [
    "# IF-Else-Else-Statement"
   ]
  },
  {
   "cell_type": "code",
   "execution_count": 5,
   "id": "1d11760c",
   "metadata": {},
   "outputs": [
    {
     "name": "stdout",
     "output_type": "stream",
     "text": [
      "Total Amount Spent:1000\n",
      "Discount is: 100.0\n"
     ]
    }
   ],
   "source": [
    "amount=float(input('Total Amount Spent:'))\n",
    "discount=0.0\n",
    "if amount==1000:\n",
    "    discount=amount*0.1\n",
    "    print('Discount is:',discount)\n",
    "elif 1000<amount<=1500:\n",
    "    discount=amount*0.15\n",
    "    print('Discount is:',discount)\n",
    "elif amount>1500:\n",
    "     discount=amount*0.2\n",
    "     print('Discount:',discount)\n",
    "else:\n",
    "    print('Better luck next time')\n",
    "    net_payable=amount-discount\n",
    "    print('You will pay:',net_payable)"
   ]
  },
  {
   "cell_type": "code",
   "execution_count": 6,
   "id": "e733b759",
   "metadata": {},
   "outputs": [
    {
     "name": "stdout",
     "output_type": "stream",
     "text": [
      "Total Scores:50\n",
      "Score is Fail\n"
     ]
    }
   ],
   "source": [
    "Score=float(input('Total Scores:'))\n",
    "if  Score<=50:\n",
    "    print('Score is Fail')\n",
    "elif 51<=Score<=60:\n",
    "     print('Score is Pass')\n",
    "elif 61<=Score<=65:\n",
    "     print('Score is Average')\n",
    "elif 66<=Score<=70:\n",
    "     print('Score is Good')\n",
    "elif 71<=Score<=85:\n",
    "     print('Score is Very Good')\n",
    "else:\n",
    "    print('Excellent')\n"
   ]
  },
  {
   "cell_type": "markdown",
   "id": "0de914f3",
   "metadata": {},
   "source": [
    "# E-Levy"
   ]
  },
  {
   "cell_type": "code",
   "execution_count": null,
   "id": "e10f8203",
   "metadata": {},
   "outputs": [],
   "source": []
  },
  {
   "cell_type": "code",
   "execution_count": null,
   "id": "8e52080e",
   "metadata": {},
   "outputs": [],
   "source": []
  },
  {
   "cell_type": "markdown",
   "id": "8cf788d2",
   "metadata": {},
   "source": [
    "# LOOPS"
   ]
  },
  {
   "cell_type": "code",
   "execution_count": 7,
   "id": "af90b7e1",
   "metadata": {},
   "outputs": [],
   "source": [
    "#While Loops"
   ]
  },
  {
   "cell_type": "code",
   "execution_count": 8,
   "id": "191baa2a",
   "metadata": {},
   "outputs": [
    {
     "name": "stdout",
     "output_type": "stream",
     "text": [
      "The count is: 0\n",
      "The count is: 1\n",
      "The count is: 2\n",
      "The count is: 3\n",
      "The count is: 4\n",
      "The count is: 5\n",
      "The count is: 6\n",
      "The count is: 7\n",
      "The count is: 8\n"
     ]
    }
   ],
   "source": [
    "count=0\n",
    "while(count<9):\n",
    "    print('The count is:',count)\n",
    "    count=count+1"
   ]
  },
  {
   "cell_type": "code",
   "execution_count": 9,
   "id": "022e8d16",
   "metadata": {},
   "outputs": [
    {
     "name": "stdout",
     "output_type": "stream",
     "text": [
      "0 less than 5\n",
      "1 less than 5\n",
      "2 less than 5\n",
      "3 less than 5\n",
      "4 less than 5\n",
      "5 is not less than 5\n"
     ]
    }
   ],
   "source": [
    "count=0\n",
    "while count<5:\n",
    "      print(count,'less than 5')\n",
    "      count=count+1\n",
    "else:\n",
    "    print(count,'is not less than 5')"
   ]
  },
  {
   "cell_type": "code",
   "execution_count": 10,
   "id": "ce1ffc2e",
   "metadata": {},
   "outputs": [],
   "source": [
    "# For Loops"
   ]
  },
  {
   "cell_type": "code",
   "execution_count": 11,
   "id": "374a85f3",
   "metadata": {},
   "outputs": [
    {
     "name": "stdout",
     "output_type": "stream",
     "text": [
      "Current Letter: P\n",
      "Current Letter: y\n",
      "Current Letter: t\n",
      "Current Letter: h\n",
      "Current Letter: o\n",
      "Current Letter: n\n"
     ]
    }
   ],
   "source": [
    "for letter in 'Python':\n",
    "    print('Current Letter:',letter)\n",
    "    "
   ]
  },
  {
   "cell_type": "code",
   "execution_count": 12,
   "id": "84ce4c9d",
   "metadata": {},
   "outputs": [
    {
     "name": "stdout",
     "output_type": "stream",
     "text": [
      "Current fruit: banana\n",
      "Current fruit: apple\n",
      "Current fruit: mango\n"
     ]
    }
   ],
   "source": [
    "fruits=['banana','apple','mango']\n",
    "for fruit in fruits:\n",
    "    print('Current fruit:',fruit)"
   ]
  },
  {
   "cell_type": "code",
   "execution_count": 13,
   "id": "c2abfe18",
   "metadata": {},
   "outputs": [],
   "source": [
    "#Break Statement"
   ]
  },
  {
   "cell_type": "code",
   "execution_count": 14,
   "id": "530d8907",
   "metadata": {},
   "outputs": [
    {
     "name": "stdout",
     "output_type": "stream",
     "text": [
      "11 is not an even number\n",
      "33 is not an even number\n",
      "55 is not an even number\n",
      "39 is not an even number\n",
      "55 is not an even number\n",
      "75 is not an even number\n",
      "37 is not an even number\n",
      "21 is not an even number\n",
      "23 is not an even number\n",
      "41 is not an even number\n",
      "13 is not an even number\n"
     ]
    }
   ],
   "source": [
    "numbers=[11,33,55,39,55,75,37,21,23,41,13]\n",
    "for figure in numbers:\n",
    "    if figure%2==0:\n",
    "        print(figure,'the list contains an even number')\n",
    "        break\n",
    "    else:\n",
    "         print(figure,'is not an even number')"
   ]
  },
  {
   "cell_type": "code",
   "execution_count": 15,
   "id": "64b146cb",
   "metadata": {},
   "outputs": [
    {
     "name": "stdout",
     "output_type": "stream",
     "text": [
      "Current Letter: P\n",
      "Current Letter: y\n",
      "Current Letter: t\n"
     ]
    }
   ],
   "source": [
    "for letter in 'Python':\n",
    "    if letter=='h':\n",
    "        break\n",
    "    print('Current Letter:',letter)"
   ]
  },
  {
   "cell_type": "code",
   "execution_count": 16,
   "id": "236b3a7b",
   "metadata": {},
   "outputs": [],
   "source": [
    "#Continue Statement"
   ]
  },
  {
   "cell_type": "code",
   "execution_count": 17,
   "id": "3d17a006",
   "metadata": {},
   "outputs": [
    {
     "name": "stdout",
     "output_type": "stream",
     "text": [
      "Current Letter: P\n",
      "Current Letter: y\n",
      "Current Letter: t\n",
      "Current Letter: o\n",
      "Current Letter: n\n"
     ]
    }
   ],
   "source": [
    "for letter in 'Python':\n",
    "    if letter=='h':\n",
    "        continue\n",
    "    print('Current Letter:',letter)"
   ]
  },
  {
   "cell_type": "code",
   "execution_count": 18,
   "id": "88570cbf",
   "metadata": {},
   "outputs": [],
   "source": [
    "#Pass Statement"
   ]
  },
  {
   "cell_type": "code",
   "execution_count": 19,
   "id": "14bc5ef8",
   "metadata": {},
   "outputs": [
    {
     "name": "stdout",
     "output_type": "stream",
     "text": [
      "Current Letter: h\n",
      "Goodbye\n"
     ]
    }
   ],
   "source": [
    "for letter in 'Python':\n",
    "     if letter=='h':\n",
    "        #pass\n",
    "        #print('This is a pass block')\n",
    "        print('Current Letter:', letter)\n",
    "        print('Goodbye')"
   ]
  },
  {
   "cell_type": "markdown",
   "id": "ca1c2da8",
   "metadata": {},
   "source": [
    "# Python Function"
   ]
  },
  {
   "cell_type": "markdown",
   "id": "fdc066b1",
   "metadata": {},
   "source": [
    "#def function name(parameter)"
   ]
  },
  {
   "cell_type": "code",
   "execution_count": 20,
   "id": "da402411",
   "metadata": {},
   "outputs": [],
   "source": [
    "#printme"
   ]
  },
  {
   "cell_type": "code",
   "execution_count": 21,
   "id": "c03b6d94",
   "metadata": {},
   "outputs": [
    {
     "name": "stdout",
     "output_type": "stream",
     "text": [
      "This prints a passed string\n"
     ]
    }
   ],
   "source": [
    "def printme(str):\n",
    "    str='This prints a passed string'\n",
    "    print(str)\n",
    "    return\n",
    "printme(str)"
   ]
  },
  {
   "cell_type": "code",
   "execution_count": 22,
   "id": "b4bebf6a",
   "metadata": {},
   "outputs": [],
   "source": [
    "def sum(arg1,arg2):\n",
    "    total=arg1+arg2\n",
    "    print('total is:',total)\n",
    "    return\n",
    "    "
   ]
  },
  {
   "cell_type": "code",
   "execution_count": 23,
   "id": "e7bcfba1",
   "metadata": {},
   "outputs": [
    {
     "name": "stdout",
     "output_type": "stream",
     "text": [
      "total is: 30\n"
     ]
    }
   ],
   "source": [
    "sum(10,20)"
   ]
  },
  {
   "cell_type": "code",
   "execution_count": 24,
   "id": "2317b19b",
   "metadata": {},
   "outputs": [],
   "source": [
    "def multiply(arg1,arg2,arg3):\n",
    "    product=arg1*arg2*arg3\n",
    "    print('product is:',product)\n",
    "    return\n",
    "    "
   ]
  },
  {
   "cell_type": "code",
   "execution_count": 25,
   "id": "bf47d30b",
   "metadata": {},
   "outputs": [
    {
     "name": "stdout",
     "output_type": "stream",
     "text": [
      "product is: 6000\n"
     ]
    }
   ],
   "source": [
    "multiply(10,20,30)"
   ]
  },
  {
   "cell_type": "code",
   "execution_count": null,
   "id": "c46944a7",
   "metadata": {},
   "outputs": [],
   "source": [
    "def multiply(arg1,arg2,arg3):\n",
    "    product=arg1*arg2*arg3\n",
    "    word='Thank you'\n",
    "    print('product is:',product)\n",
    "    return word"
   ]
  },
  {
   "cell_type": "code",
   "execution_count": null,
   "id": "3c87e99f",
   "metadata": {},
   "outputs": [],
   "source": [
    "multiply(10,20,30)"
   ]
  },
  {
   "cell_type": "markdown",
   "id": "b2890634",
   "metadata": {},
   "source": [
    "#Global Variable"
   ]
  },
  {
   "cell_type": "code",
   "execution_count": null,
   "id": "3c8e8e78",
   "metadata": {},
   "outputs": [],
   "source": [
    "word='welcome'\n",
    "def multiply(arg1,arg2,arg3):\n",
    "    product=arg1*arg2*arg3\n",
    "    word='Thank you'\n",
    "    print('product is:',product)\n",
    "    return word"
   ]
  },
  {
   "cell_type": "code",
   "execution_count": null,
   "id": "3a7af643",
   "metadata": {},
   "outputs": [],
   "source": [
    "multiply(10,20,30)\n",
    "print(word)"
   ]
  },
  {
   "cell_type": "code",
   "execution_count": null,
   "id": "8ff0e107",
   "metadata": {},
   "outputs": [],
   "source": []
  }
 ],
 "metadata": {
  "kernelspec": {
   "display_name": "Python 3 (ipykernel)",
   "language": "python",
   "name": "python3"
  },
  "language_info": {
   "codemirror_mode": {
    "name": "ipython",
    "version": 3
   },
   "file_extension": ".py",
   "mimetype": "text/x-python",
   "name": "python",
   "nbconvert_exporter": "python",
   "pygments_lexer": "ipython3",
   "version": "3.9.12"
  }
 },
 "nbformat": 4,
 "nbformat_minor": 5
}
