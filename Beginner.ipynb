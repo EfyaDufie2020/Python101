{
 "cells": [
  {
   "cell_type": "markdown",
   "id": "a1f4a80e",
   "metadata": {},
   "source": [
    "# BASICS"
   ]
  },
  {
   "cell_type": "code",
   "execution_count": 1,
   "id": "5c82d82a",
   "metadata": {
    "scrolled": true
   },
   "outputs": [
    {
     "name": "stdout",
     "output_type": "stream",
     "text": [
      "Hello World\n"
     ]
    }
   ],
   "source": [
    "print(\"Hello World\")"
   ]
  },
  {
   "cell_type": "code",
   "execution_count": 2,
   "id": "2492ef11",
   "metadata": {},
   "outputs": [
    {
     "name": "stdout",
     "output_type": "stream",
     "text": [
      "Hello World\n"
     ]
    }
   ],
   "source": [
    "x=\"Hello World\"\n",
    "print(x)"
   ]
  },
  {
   "cell_type": "code",
   "execution_count": 3,
   "id": "f0e4c16e",
   "metadata": {},
   "outputs": [
    {
     "name": "stdout",
     "output_type": "stream",
     "text": [
      "John Smith\n"
     ]
    }
   ],
   "source": [
    "Name= \"John Smith\"\n",
    "print(Name)"
   ]
  },
  {
   "cell_type": "code",
   "execution_count": 4,
   "id": "7914ec79",
   "metadata": {},
   "outputs": [
    {
     "name": "stdout",
     "output_type": "stream",
     "text": [
      "4\n"
     ]
    }
   ],
   "source": [
    "x=4 \n",
    "y=4\n",
    "z=4\n",
    "print(z)"
   ]
  },
  {
   "cell_type": "code",
   "execution_count": 5,
   "id": "94f3c0ab",
   "metadata": {},
   "outputs": [
    {
     "name": "stdout",
     "output_type": "stream",
     "text": [
      "Sally\n"
     ]
    }
   ],
   "source": [
    "x=4\n",
    "x=\"Sally\"\n",
    "print(x)\n"
   ]
  },
  {
   "cell_type": "code",
   "execution_count": 6,
   "id": "729ab0b7",
   "metadata": {},
   "outputs": [
    {
     "name": "stdout",
     "output_type": "stream",
     "text": [
      "Orange\n",
      "Banana\n",
      "Cherry\n"
     ]
    }
   ],
   "source": [
    "x,y,z=\"Orange\",\"Banana\",\"Cherry\"\n",
    "print(x)\n",
    "print(y)\n",
    "print(z)"
   ]
  },
  {
   "cell_type": "code",
   "execution_count": 7,
   "id": "e7fd9a8e",
   "metadata": {},
   "outputs": [
    {
     "name": "stdout",
     "output_type": "stream",
     "text": [
      "Mercy Dufie Boateng\n",
      "MercyDufieBoateng@gmail.com\n",
      "DufieDufieDufie\n"
     ]
    }
   ],
   "source": [
    "First_Name= \"Mercy\"\n",
    "Middle_Name=\"Dufie\"\n",
    "Last_Name=\"Boateng\"\n",
    "print(First_Name+\" \"+Middle_Name+\" \"+Last_Name)\n",
    "print(First_Name+Middle_Name+Last_Name+\"@gmail.com\")\n",
    "print(Middle_Name*3)"
   ]
  },
  {
   "cell_type": "code",
   "execution_count": 8,
   "id": "6c0a1809",
   "metadata": {},
   "outputs": [
    {
     "name": "stdout",
     "output_type": "stream",
     "text": [
      "30\n",
      "7\n"
     ]
    }
   ],
   "source": [
    "print(10*3)\n",
    "print(12-5)"
   ]
  },
  {
   "cell_type": "markdown",
   "id": "180b31af",
   "metadata": {},
   "source": [
    "# INDEXING"
   ]
  },
  {
   "cell_type": "code",
   "execution_count": 9,
   "id": "9ddde99b",
   "metadata": {
    "scrolled": true
   },
   "outputs": [
    {
     "name": "stdout",
     "output_type": "stream",
     "text": [
      "7\n"
     ]
    }
   ],
   "source": [
    "name=\"maxwell\"\n",
    "print(len(name))"
   ]
  },
  {
   "cell_type": "markdown",
   "id": "42c7b7a6",
   "metadata": {},
   "source": [
    "# LIST\n",
    "#.append\n",
    "#.insert\n",
    "#.sort\n",
    "#.remove"
   ]
  },
  {
   "cell_type": "code",
   "execution_count": 10,
   "id": "3da6a0a3",
   "metadata": {},
   "outputs": [
    {
     "name": "stdout",
     "output_type": "stream",
     "text": [
      "['Dzifa', 'Addobea', 'Mercy', 'Pearl', 'Annie', 'Josie']\n"
     ]
    }
   ],
   "source": [
    "students=[\"Dzifa\",\"Addobea\",\"Mercy\",\"Pearl\",\"Annie\"]\n",
    "students.append(\"Josie\")\n",
    "print(students)"
   ]
  },
  {
   "cell_type": "code",
   "execution_count": 11,
   "id": "4c4b270b",
   "metadata": {},
   "outputs": [
    {
     "name": "stdout",
     "output_type": "stream",
     "text": [
      "['Dzifa', 'Josie', 'Addobea', 'Mercy', 'Pearl', 'Annie', 'Josie']\n"
     ]
    }
   ],
   "source": [
    "students.insert(1,\"Josie\")\n",
    "print(students)"
   ]
  },
  {
   "cell_type": "code",
   "execution_count": 12,
   "id": "98b2303c",
   "metadata": {},
   "outputs": [
    {
     "name": "stdout",
     "output_type": "stream",
     "text": [
      "['Pearl', 'Mercy', 'Dzifa', 'Annie', 'Addobea']\n"
     ]
    }
   ],
   "source": [
    "students=[\"Dzifa\",\"Addobea\",\"Mercy\",\"Pearl\",\"Annie\"]\n",
    "students.sort(reverse=True)\n",
    "print(students)"
   ]
  },
  {
   "cell_type": "code",
   "execution_count": 13,
   "id": "28dd52b1",
   "metadata": {},
   "outputs": [
    {
     "name": "stdout",
     "output_type": "stream",
     "text": [
      "['Pearl', 'Dzifa', 'Annie', 'Addobea']\n"
     ]
    }
   ],
   "source": [
    "students.remove(\"Mercy\")\n",
    "print(students)"
   ]
  },
  {
   "cell_type": "markdown",
   "id": "79bbd1bc",
   "metadata": {},
   "source": [
    "# Dictionary"
   ]
  },
  {
   "cell_type": "code",
   "execution_count": 14,
   "id": "42b3bfc9",
   "metadata": {},
   "outputs": [
    {
     "name": "stdout",
     "output_type": "stream",
     "text": [
      "{'Name': 'Kofi', 'food': 'Tea', 'Country': 'China', 'Gender': 'Male'}\n"
     ]
    }
   ],
   "source": [
    "Profile= {'Name':'Kofi', 'food':'Tea', 'Country':'China', 'Gender':'Male'}\n",
    "print(Profile)"
   ]
  },
  {
   "cell_type": "markdown",
   "id": "15342efe",
   "metadata": {},
   "source": [
    "#Slicers"
   ]
  },
  {
   "cell_type": "code",
   "execution_count": 15,
   "id": "8dca979c",
   "metadata": {},
   "outputs": [
    {
     "name": "stdout",
     "output_type": "stream",
     "text": [
      "China\n"
     ]
    }
   ],
   "source": [
    "print(Profile['Country'])"
   ]
  },
  {
   "cell_type": "code",
   "execution_count": 16,
   "id": "2335959a",
   "metadata": {},
   "outputs": [],
   "source": [
    "#Making Changes"
   ]
  },
  {
   "cell_type": "code",
   "execution_count": 17,
   "id": "582fc680",
   "metadata": {},
   "outputs": [
    {
     "name": "stdout",
     "output_type": "stream",
     "text": [
      "{'Name': 'Kofi', 'food': 'Tea', 'Country': 'China', 'Gender': 'Male', 'Food': 'Fried Rice'}\n"
     ]
    }
   ],
   "source": [
    "Profile['Food']='Fried Rice'\n",
    "print(Profile)"
   ]
  },
  {
   "cell_type": "code",
   "execution_count": 18,
   "id": "b54cee32",
   "metadata": {},
   "outputs": [],
   "source": [
    "#Addition\n"
   ]
  },
  {
   "cell_type": "code",
   "execution_count": 19,
   "id": "44c33bc9",
   "metadata": {},
   "outputs": [
    {
     "name": "stdout",
     "output_type": "stream",
     "text": [
      "{'Name': 'Kofi', 'food': 'Tea', 'Country': 'China', 'Gender': 'Male', 'Food': 'Fried Rice', 'Department': 'Engineering'}\n"
     ]
    }
   ],
   "source": [
    "Profile['Department']='Engineering'\n",
    "print(Profile)"
   ]
  },
  {
   "cell_type": "code",
   "execution_count": 20,
   "id": "60bf05ec",
   "metadata": {},
   "outputs": [],
   "source": [
    "#Remove"
   ]
  },
  {
   "cell_type": "code",
   "execution_count": 21,
   "id": "a34a4ecb",
   "metadata": {},
   "outputs": [
    {
     "name": "stdout",
     "output_type": "stream",
     "text": [
      "{'Name': 'Kofi', 'food': 'Tea', 'Country': 'China', 'Gender': 'Male', 'Food': 'Fried Rice'}\n"
     ]
    }
   ],
   "source": [
    "del Profile['Department']\n",
    "print(Profile)"
   ]
  },
  {
   "cell_type": "markdown",
   "id": "57a3caa4",
   "metadata": {},
   "source": [
    "# Conditional Statements & Loops"
   ]
  },
  {
   "cell_type": "code",
   "execution_count": 22,
   "id": "82b78b4d",
   "metadata": {},
   "outputs": [
    {
     "name": "stdout",
     "output_type": "stream",
     "text": [
      "go away\n"
     ]
    }
   ],
   "source": [
    "boy='Kofi'\n",
    "if boy=='Handsome':\n",
    "     print('I like you')\n",
    "elif boy=='rich and hardworking':\n",
    "   print('I still like you')\n",
    "else:\n",
    "     print('go away')"
   ]
  },
  {
   "cell_type": "markdown",
   "id": "20b28fb2",
   "metadata": {},
   "source": [
    "# File Handling"
   ]
  },
  {
   "cell_type": "code",
   "execution_count": 23,
   "id": "deda520b",
   "metadata": {},
   "outputs": [],
   "source": [
    "import pandas as pd"
   ]
  },
  {
   "cell_type": "code",
   "execution_count": 27,
   "id": "9d96b1b5",
   "metadata": {},
   "outputs": [],
   "source": [
    "data=pd.read_excel(r'/Users/kwakua/Documents/Excel Lessons/Raw Data.xlsx')"
   ]
  },
  {
   "cell_type": "code",
   "execution_count": 28,
   "id": "d086ee26",
   "metadata": {},
   "outputs": [
    {
     "name": "stdout",
     "output_type": "stream",
     "text": [
      "          FULL NAME  GENDER DEPARTMENT  YEARS OF EXPERIENCE  JOB RATINGS\n",
      "0      Regina Gomez  Female     Sales                     5            5\n",
      "1         Jolie Kov  Female         IT                   10            4\n",
      "2     Andre Wheeler    Male   Facility                   12            5\n",
      "3      Megan Butler  Female     Sales                    15            2\n",
      "4      Ria Fletcher  Female   Facility                    9            3\n",
      "5     Michael Korby    Male         IT                   20            1\n",
      "6         Eric Pena    Male     Sales                    14            2\n",
      "7   Raphael Andrews    Male         IT                   17            3\n",
      "8     Daine Mattews  Female   Facility                    6            4\n",
      "9      Jeffery West    Male         IT                    7            5\n",
      "10    Josie Wheeler  Female         IT                   18            5\n",
      "11     Genny Talyor  Female     Sales                    20            5\n",
      "12  Lilian Coleslow  Female   Facility                   15            3\n",
      "13      DanieL Koch    Male   Facility                   15            3\n",
      "14   Sheela Gaines   Female     Sales                    19            5\n",
      "15   Robert Camillo    Male         IT                   16            4\n",
      "16        Roy Pratt    Male     Sales                    13            2\n",
      "17  Gilbert Shannon    Male   Facility                   11            1\n",
      "18  Joseph Schwatrz    Male     Sales                     8            2\n",
      "19     Ethel Jumper  Female   Facility                   10            3\n"
     ]
    }
   ],
   "source": [
    "print(data)"
   ]
  },
  {
   "cell_type": "code",
   "execution_count": 29,
   "id": "998091fc",
   "metadata": {},
   "outputs": [
    {
     "name": "stdout",
     "output_type": "stream",
     "text": [
      "       FULL NAME  GENDER DEPARTMENT  YEARS OF EXPERIENCE  JOB RATINGS\n",
      "0   Regina Gomez  Female     Sales                     5            5\n",
      "1      Jolie Kov  Female         IT                   10            4\n",
      "2  Andre Wheeler    Male   Facility                   12            5\n",
      "3   Megan Butler  Female     Sales                    15            2\n",
      "4   Ria Fletcher  Female   Facility                    9            3\n"
     ]
    }
   ],
   "source": [
    "print(data.head(5))"
   ]
  },
  {
   "cell_type": "code",
   "execution_count": 30,
   "id": "3b340f1d",
   "metadata": {},
   "outputs": [
    {
     "name": "stdout",
     "output_type": "stream",
     "text": [
      "          FULL NAME  GENDER DEPARTMENT  YEARS OF EXPERIENCE  JOB RATINGS\n",
      "15   Robert Camillo    Male         IT                   16            4\n",
      "16        Roy Pratt    Male     Sales                    13            2\n",
      "17  Gilbert Shannon    Male   Facility                   11            1\n",
      "18  Joseph Schwatrz    Male     Sales                     8            2\n",
      "19     Ethel Jumper  Female   Facility                   10            3\n"
     ]
    }
   ],
   "source": [
    "print(data.tail(5))"
   ]
  },
  {
   "cell_type": "code",
   "execution_count": 31,
   "id": "9ecc00ea",
   "metadata": {},
   "outputs": [
    {
     "data": {
      "text/html": [
       "<div>\n",
       "<style scoped>\n",
       "    .dataframe tbody tr th:only-of-type {\n",
       "        vertical-align: middle;\n",
       "    }\n",
       "\n",
       "    .dataframe tbody tr th {\n",
       "        vertical-align: top;\n",
       "    }\n",
       "\n",
       "    .dataframe thead th {\n",
       "        text-align: right;\n",
       "    }\n",
       "</style>\n",
       "<table border=\"1\" class=\"dataframe\">\n",
       "  <thead>\n",
       "    <tr style=\"text-align: right;\">\n",
       "      <th></th>\n",
       "      <th>FULL NAME</th>\n",
       "      <th>GENDER</th>\n",
       "      <th>DEPARTMENT</th>\n",
       "      <th>YEARS OF EXPERIENCE</th>\n",
       "      <th>JOB RATINGS</th>\n",
       "    </tr>\n",
       "  </thead>\n",
       "  <tbody>\n",
       "    <tr>\n",
       "      <th>0</th>\n",
       "      <td>Regina Gomez</td>\n",
       "      <td>Female</td>\n",
       "      <td>Sales</td>\n",
       "      <td>5</td>\n",
       "      <td>5</td>\n",
       "    </tr>\n",
       "    <tr>\n",
       "      <th>1</th>\n",
       "      <td>Jolie Kov</td>\n",
       "      <td>Female</td>\n",
       "      <td>IT</td>\n",
       "      <td>10</td>\n",
       "      <td>4</td>\n",
       "    </tr>\n",
       "    <tr>\n",
       "      <th>2</th>\n",
       "      <td>Andre Wheeler</td>\n",
       "      <td>Male</td>\n",
       "      <td>Facility</td>\n",
       "      <td>12</td>\n",
       "      <td>5</td>\n",
       "    </tr>\n",
       "    <tr>\n",
       "      <th>3</th>\n",
       "      <td>Megan Butler</td>\n",
       "      <td>Female</td>\n",
       "      <td>Sales</td>\n",
       "      <td>15</td>\n",
       "      <td>2</td>\n",
       "    </tr>\n",
       "    <tr>\n",
       "      <th>4</th>\n",
       "      <td>Ria Fletcher</td>\n",
       "      <td>Female</td>\n",
       "      <td>Facility</td>\n",
       "      <td>9</td>\n",
       "      <td>3</td>\n",
       "    </tr>\n",
       "    <tr>\n",
       "      <th>5</th>\n",
       "      <td>Michael Korby</td>\n",
       "      <td>Male</td>\n",
       "      <td>IT</td>\n",
       "      <td>20</td>\n",
       "      <td>1</td>\n",
       "    </tr>\n",
       "    <tr>\n",
       "      <th>6</th>\n",
       "      <td>Eric Pena</td>\n",
       "      <td>Male</td>\n",
       "      <td>Sales</td>\n",
       "      <td>14</td>\n",
       "      <td>2</td>\n",
       "    </tr>\n",
       "    <tr>\n",
       "      <th>7</th>\n",
       "      <td>Raphael Andrews</td>\n",
       "      <td>Male</td>\n",
       "      <td>IT</td>\n",
       "      <td>17</td>\n",
       "      <td>3</td>\n",
       "    </tr>\n",
       "    <tr>\n",
       "      <th>8</th>\n",
       "      <td>Daine Mattews</td>\n",
       "      <td>Female</td>\n",
       "      <td>Facility</td>\n",
       "      <td>6</td>\n",
       "      <td>4</td>\n",
       "    </tr>\n",
       "    <tr>\n",
       "      <th>9</th>\n",
       "      <td>Jeffery West</td>\n",
       "      <td>Male</td>\n",
       "      <td>IT</td>\n",
       "      <td>7</td>\n",
       "      <td>5</td>\n",
       "    </tr>\n",
       "    <tr>\n",
       "      <th>10</th>\n",
       "      <td>Josie Wheeler</td>\n",
       "      <td>Female</td>\n",
       "      <td>IT</td>\n",
       "      <td>18</td>\n",
       "      <td>5</td>\n",
       "    </tr>\n",
       "    <tr>\n",
       "      <th>11</th>\n",
       "      <td>Genny Talyor</td>\n",
       "      <td>Female</td>\n",
       "      <td>Sales</td>\n",
       "      <td>20</td>\n",
       "      <td>5</td>\n",
       "    </tr>\n",
       "    <tr>\n",
       "      <th>12</th>\n",
       "      <td>Lilian Coleslow</td>\n",
       "      <td>Female</td>\n",
       "      <td>Facility</td>\n",
       "      <td>15</td>\n",
       "      <td>3</td>\n",
       "    </tr>\n",
       "    <tr>\n",
       "      <th>13</th>\n",
       "      <td>DanieL Koch</td>\n",
       "      <td>Male</td>\n",
       "      <td>Facility</td>\n",
       "      <td>15</td>\n",
       "      <td>3</td>\n",
       "    </tr>\n",
       "    <tr>\n",
       "      <th>14</th>\n",
       "      <td>Sheela Gaines</td>\n",
       "      <td>Female</td>\n",
       "      <td>Sales</td>\n",
       "      <td>19</td>\n",
       "      <td>5</td>\n",
       "    </tr>\n",
       "    <tr>\n",
       "      <th>15</th>\n",
       "      <td>Robert Camillo</td>\n",
       "      <td>Male</td>\n",
       "      <td>IT</td>\n",
       "      <td>16</td>\n",
       "      <td>4</td>\n",
       "    </tr>\n",
       "    <tr>\n",
       "      <th>16</th>\n",
       "      <td>Roy Pratt</td>\n",
       "      <td>Male</td>\n",
       "      <td>Sales</td>\n",
       "      <td>13</td>\n",
       "      <td>2</td>\n",
       "    </tr>\n",
       "    <tr>\n",
       "      <th>17</th>\n",
       "      <td>Gilbert Shannon</td>\n",
       "      <td>Male</td>\n",
       "      <td>Facility</td>\n",
       "      <td>11</td>\n",
       "      <td>1</td>\n",
       "    </tr>\n",
       "    <tr>\n",
       "      <th>18</th>\n",
       "      <td>Joseph Schwatrz</td>\n",
       "      <td>Male</td>\n",
       "      <td>Sales</td>\n",
       "      <td>8</td>\n",
       "      <td>2</td>\n",
       "    </tr>\n",
       "    <tr>\n",
       "      <th>19</th>\n",
       "      <td>Ethel Jumper</td>\n",
       "      <td>Female</td>\n",
       "      <td>Facility</td>\n",
       "      <td>10</td>\n",
       "      <td>3</td>\n",
       "    </tr>\n",
       "  </tbody>\n",
       "</table>\n",
       "</div>"
      ],
      "text/plain": [
       "          FULL NAME  GENDER DEPARTMENT  YEARS OF EXPERIENCE  JOB RATINGS\n",
       "0      Regina Gomez  Female     Sales                     5            5\n",
       "1         Jolie Kov  Female         IT                   10            4\n",
       "2     Andre Wheeler    Male   Facility                   12            5\n",
       "3      Megan Butler  Female     Sales                    15            2\n",
       "4      Ria Fletcher  Female   Facility                    9            3\n",
       "5     Michael Korby    Male         IT                   20            1\n",
       "6         Eric Pena    Male     Sales                    14            2\n",
       "7   Raphael Andrews    Male         IT                   17            3\n",
       "8     Daine Mattews  Female   Facility                    6            4\n",
       "9      Jeffery West    Male         IT                    7            5\n",
       "10    Josie Wheeler  Female         IT                   18            5\n",
       "11     Genny Talyor  Female     Sales                    20            5\n",
       "12  Lilian Coleslow  Female   Facility                   15            3\n",
       "13      DanieL Koch    Male   Facility                   15            3\n",
       "14   Sheela Gaines   Female     Sales                    19            5\n",
       "15   Robert Camillo    Male         IT                   16            4\n",
       "16        Roy Pratt    Male     Sales                    13            2\n",
       "17  Gilbert Shannon    Male   Facility                   11            1\n",
       "18  Joseph Schwatrz    Male     Sales                     8            2\n",
       "19     Ethel Jumper  Female   Facility                   10            3"
      ]
     },
     "execution_count": 31,
     "metadata": {},
     "output_type": "execute_result"
    }
   ],
   "source": [
    "pd.DataFrame(data)"
   ]
  },
  {
   "cell_type": "code",
   "execution_count": 32,
   "id": "38f5b616",
   "metadata": {},
   "outputs": [
    {
     "name": "stdout",
     "output_type": "stream",
     "text": [
      "0        Regina Gomez\n",
      "1           Jolie Kov\n",
      "2       Andre Wheeler\n",
      "3        Megan Butler\n",
      "4        Ria Fletcher\n",
      "5       Michael Korby\n",
      "6           Eric Pena\n",
      "7     Raphael Andrews\n",
      "8       Daine Mattews\n",
      "9        Jeffery West\n",
      "10      Josie Wheeler\n",
      "11       Genny Talyor\n",
      "12    Lilian Coleslow\n",
      "13        DanieL Koch\n",
      "14     Sheela Gaines \n",
      "15     Robert Camillo\n",
      "16          Roy Pratt\n",
      "17    Gilbert Shannon\n",
      "18    Joseph Schwatrz\n",
      "19       Ethel Jumper\n",
      "Name: FULL NAME, dtype: object\n"
     ]
    }
   ],
   "source": [
    "print(data['FULL NAME'])"
   ]
  },
  {
   "cell_type": "code",
   "execution_count": 45,
   "id": "81b6a7a9",
   "metadata": {},
   "outputs": [
    {
     "data": {
      "text/plain": [
       "FULL NAME              Megan Butler\n",
       "GENDER                       Female\n",
       "DEPARTMENT                   Sales \n",
       "YEARS OF EXPERIENCE              15\n",
       "JOB RATINGS                       2\n",
       "Name: 3, dtype: object"
      ]
     },
     "execution_count": 45,
     "metadata": {},
     "output_type": "execute_result"
    }
   ],
   "source": [
    "data.loc[3,'FULL NAME':]"
   ]
  },
  {
   "cell_type": "code",
   "execution_count": 51,
   "id": "e75be8b8",
   "metadata": {},
   "outputs": [
    {
     "data": {
      "text/plain": [
       "FULL NAME      Regina Gomez\n",
       "JOB RATINGS               5\n",
       "Name: 0, dtype: object"
      ]
     },
     "execution_count": 51,
     "metadata": {},
     "output_type": "execute_result"
    }
   ],
   "source": [
    "data.iloc[0,[0,4]]"
   ]
  },
  {
   "cell_type": "code",
   "execution_count": 59,
   "id": "9d27d659",
   "metadata": {},
   "outputs": [
    {
     "data": {
      "text/html": [
       "<div>\n",
       "<style scoped>\n",
       "    .dataframe tbody tr th:only-of-type {\n",
       "        vertical-align: middle;\n",
       "    }\n",
       "\n",
       "    .dataframe tbody tr th {\n",
       "        vertical-align: top;\n",
       "    }\n",
       "\n",
       "    .dataframe thead th {\n",
       "        text-align: right;\n",
       "    }\n",
       "</style>\n",
       "<table border=\"1\" class=\"dataframe\">\n",
       "  <thead>\n",
       "    <tr style=\"text-align: right;\">\n",
       "      <th></th>\n",
       "      <th>FULL NAME</th>\n",
       "      <th>GENDER</th>\n",
       "      <th>DEPARTMENT</th>\n",
       "      <th>YEARS OF EXPERIENCE</th>\n",
       "      <th>JOB RATINGS</th>\n",
       "    </tr>\n",
       "  </thead>\n",
       "  <tbody>\n",
       "    <tr>\n",
       "      <th>2</th>\n",
       "      <td>Andre Wheeler</td>\n",
       "      <td>Male</td>\n",
       "      <td>Facility</td>\n",
       "      <td>12</td>\n",
       "      <td>5</td>\n",
       "    </tr>\n",
       "    <tr>\n",
       "      <th>5</th>\n",
       "      <td>Michael Korby</td>\n",
       "      <td>Male</td>\n",
       "      <td>IT</td>\n",
       "      <td>20</td>\n",
       "      <td>1</td>\n",
       "    </tr>\n",
       "    <tr>\n",
       "      <th>6</th>\n",
       "      <td>Eric Pena</td>\n",
       "      <td>Male</td>\n",
       "      <td>Sales</td>\n",
       "      <td>14</td>\n",
       "      <td>2</td>\n",
       "    </tr>\n",
       "    <tr>\n",
       "      <th>7</th>\n",
       "      <td>Raphael Andrews</td>\n",
       "      <td>Male</td>\n",
       "      <td>IT</td>\n",
       "      <td>17</td>\n",
       "      <td>3</td>\n",
       "    </tr>\n",
       "    <tr>\n",
       "      <th>9</th>\n",
       "      <td>Jeffery West</td>\n",
       "      <td>Male</td>\n",
       "      <td>IT</td>\n",
       "      <td>7</td>\n",
       "      <td>5</td>\n",
       "    </tr>\n",
       "    <tr>\n",
       "      <th>13</th>\n",
       "      <td>DanieL Koch</td>\n",
       "      <td>Male</td>\n",
       "      <td>Facility</td>\n",
       "      <td>15</td>\n",
       "      <td>3</td>\n",
       "    </tr>\n",
       "    <tr>\n",
       "      <th>15</th>\n",
       "      <td>Robert Camillo</td>\n",
       "      <td>Male</td>\n",
       "      <td>IT</td>\n",
       "      <td>16</td>\n",
       "      <td>4</td>\n",
       "    </tr>\n",
       "    <tr>\n",
       "      <th>16</th>\n",
       "      <td>Roy Pratt</td>\n",
       "      <td>Male</td>\n",
       "      <td>Sales</td>\n",
       "      <td>13</td>\n",
       "      <td>2</td>\n",
       "    </tr>\n",
       "    <tr>\n",
       "      <th>17</th>\n",
       "      <td>Gilbert Shannon</td>\n",
       "      <td>Male</td>\n",
       "      <td>Facility</td>\n",
       "      <td>11</td>\n",
       "      <td>1</td>\n",
       "    </tr>\n",
       "    <tr>\n",
       "      <th>18</th>\n",
       "      <td>Joseph Schwatrz</td>\n",
       "      <td>Male</td>\n",
       "      <td>Sales</td>\n",
       "      <td>8</td>\n",
       "      <td>2</td>\n",
       "    </tr>\n",
       "  </tbody>\n",
       "</table>\n",
       "</div>"
      ],
      "text/plain": [
       "          FULL NAME GENDER DEPARTMENT  YEARS OF EXPERIENCE  JOB RATINGS\n",
       "2     Andre Wheeler   Male   Facility                   12            5\n",
       "5     Michael Korby   Male         IT                   20            1\n",
       "6         Eric Pena   Male     Sales                    14            2\n",
       "7   Raphael Andrews   Male         IT                   17            3\n",
       "9      Jeffery West   Male         IT                    7            5\n",
       "13      DanieL Koch   Male   Facility                   15            3\n",
       "15   Robert Camillo   Male         IT                   16            4\n",
       "16        Roy Pratt   Male     Sales                    13            2\n",
       "17  Gilbert Shannon   Male   Facility                   11            1\n",
       "18  Joseph Schwatrz   Male     Sales                     8            2"
      ]
     },
     "execution_count": 59,
     "metadata": {},
     "output_type": "execute_result"
    }
   ],
   "source": [
    "data.loc[data.GENDER=='Male']"
   ]
  },
  {
   "cell_type": "code",
   "execution_count": 61,
   "id": "97b903b5",
   "metadata": {},
   "outputs": [
    {
     "data": {
      "text/html": [
       "<div>\n",
       "<style scoped>\n",
       "    .dataframe tbody tr th:only-of-type {\n",
       "        vertical-align: middle;\n",
       "    }\n",
       "\n",
       "    .dataframe tbody tr th {\n",
       "        vertical-align: top;\n",
       "    }\n",
       "\n",
       "    .dataframe thead th {\n",
       "        text-align: right;\n",
       "    }\n",
       "</style>\n",
       "<table border=\"1\" class=\"dataframe\">\n",
       "  <thead>\n",
       "    <tr style=\"text-align: right;\">\n",
       "      <th></th>\n",
       "      <th>FULL NAME</th>\n",
       "      <th>GENDER</th>\n",
       "      <th>DEPARTMENT</th>\n",
       "      <th>YEARS OF EXPERIENCE</th>\n",
       "      <th>JOB RATINGS</th>\n",
       "    </tr>\n",
       "  </thead>\n",
       "  <tbody>\n",
       "    <tr>\n",
       "      <th>0</th>\n",
       "      <td>Regina Gomez</td>\n",
       "      <td>Female</td>\n",
       "      <td>Sales</td>\n",
       "      <td>5</td>\n",
       "      <td>5</td>\n",
       "    </tr>\n",
       "    <tr>\n",
       "      <th>1</th>\n",
       "      <td>Jolie Kov</td>\n",
       "      <td>Female</td>\n",
       "      <td>IT</td>\n",
       "      <td>10</td>\n",
       "      <td>4</td>\n",
       "    </tr>\n",
       "    <tr>\n",
       "      <th>3</th>\n",
       "      <td>Megan Butler</td>\n",
       "      <td>Female</td>\n",
       "      <td>Sales</td>\n",
       "      <td>15</td>\n",
       "      <td>2</td>\n",
       "    </tr>\n",
       "    <tr>\n",
       "      <th>4</th>\n",
       "      <td>Ria Fletcher</td>\n",
       "      <td>Female</td>\n",
       "      <td>Facility</td>\n",
       "      <td>9</td>\n",
       "      <td>3</td>\n",
       "    </tr>\n",
       "    <tr>\n",
       "      <th>8</th>\n",
       "      <td>Daine Mattews</td>\n",
       "      <td>Female</td>\n",
       "      <td>Facility</td>\n",
       "      <td>6</td>\n",
       "      <td>4</td>\n",
       "    </tr>\n",
       "    <tr>\n",
       "      <th>10</th>\n",
       "      <td>Josie Wheeler</td>\n",
       "      <td>Female</td>\n",
       "      <td>IT</td>\n",
       "      <td>18</td>\n",
       "      <td>5</td>\n",
       "    </tr>\n",
       "    <tr>\n",
       "      <th>11</th>\n",
       "      <td>Genny Talyor</td>\n",
       "      <td>Female</td>\n",
       "      <td>Sales</td>\n",
       "      <td>20</td>\n",
       "      <td>5</td>\n",
       "    </tr>\n",
       "    <tr>\n",
       "      <th>12</th>\n",
       "      <td>Lilian Coleslow</td>\n",
       "      <td>Female</td>\n",
       "      <td>Facility</td>\n",
       "      <td>15</td>\n",
       "      <td>3</td>\n",
       "    </tr>\n",
       "    <tr>\n",
       "      <th>14</th>\n",
       "      <td>Sheela Gaines</td>\n",
       "      <td>Female</td>\n",
       "      <td>Sales</td>\n",
       "      <td>19</td>\n",
       "      <td>5</td>\n",
       "    </tr>\n",
       "    <tr>\n",
       "      <th>19</th>\n",
       "      <td>Ethel Jumper</td>\n",
       "      <td>Female</td>\n",
       "      <td>Facility</td>\n",
       "      <td>10</td>\n",
       "      <td>3</td>\n",
       "    </tr>\n",
       "  </tbody>\n",
       "</table>\n",
       "</div>"
      ],
      "text/plain": [
       "          FULL NAME  GENDER DEPARTMENT  YEARS OF EXPERIENCE  JOB RATINGS\n",
       "0      Regina Gomez  Female     Sales                     5            5\n",
       "1         Jolie Kov  Female         IT                   10            4\n",
       "3      Megan Butler  Female     Sales                    15            2\n",
       "4      Ria Fletcher  Female   Facility                    9            3\n",
       "8     Daine Mattews  Female   Facility                    6            4\n",
       "10    Josie Wheeler  Female         IT                   18            5\n",
       "11     Genny Talyor  Female     Sales                    20            5\n",
       "12  Lilian Coleslow  Female   Facility                   15            3\n",
       "14   Sheela Gaines   Female     Sales                    19            5\n",
       "19     Ethel Jumper  Female   Facility                   10            3"
      ]
     },
     "execution_count": 61,
     "metadata": {},
     "output_type": "execute_result"
    }
   ],
   "source": [
    "data.loc[data.GENDER=='Female']"
   ]
  },
  {
   "cell_type": "code",
   "execution_count": 68,
   "id": "53e19012",
   "metadata": {},
   "outputs": [
    {
     "data": {
      "text/plain": [
       "FULL NAME              Megan Butler\n",
       "YEARS OF EXPERIENCE              15\n",
       "Name: 3, dtype: object"
      ]
     },
     "execution_count": 68,
     "metadata": {},
     "output_type": "execute_result"
    }
   ],
   "source": [
    "data.iloc[3,[0,3]]"
   ]
  },
  {
   "cell_type": "markdown",
   "id": "46f27178",
   "metadata": {},
   "source": [
    "# Visualization in python"
   ]
  },
  {
   "cell_type": "code",
   "execution_count": null,
   "id": "2ace44e5",
   "metadata": {},
   "outputs": [],
   "source": []
  },
  {
   "cell_type": "markdown",
   "id": "457a3591",
   "metadata": {},
   "source": [
    "# Plotting with Matplotlib"
   ]
  },
  {
   "cell_type": "code",
   "execution_count": null,
   "id": "5225f418",
   "metadata": {},
   "outputs": [],
   "source": [
    "import matplotlib.pyplot as pH"
   ]
  },
  {
   "cell_type": "code",
   "execution_count": null,
   "id": "9d64453c",
   "metadata": {},
   "outputs": [],
   "source": []
  }
 ],
 "metadata": {
  "kernelspec": {
   "display_name": "Python 3 (ipykernel)",
   "language": "python",
   "name": "python3"
  },
  "language_info": {
   "codemirror_mode": {
    "name": "ipython",
    "version": 3
   },
   "file_extension": ".py",
   "mimetype": "text/x-python",
   "name": "python",
   "nbconvert_exporter": "python",
   "pygments_lexer": "ipython3",
   "version": "3.9.12"
  }
 },
 "nbformat": 4,
 "nbformat_minor": 5
}
