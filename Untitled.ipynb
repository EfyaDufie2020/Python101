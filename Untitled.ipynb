{
 "cells": [
  {
   "cell_type": "code",
   "execution_count": 1,
   "id": "57f9bf0f",
   "metadata": {},
   "outputs": [
    {
     "name": "stdout",
     "output_type": "stream",
     "text": [
      "The DSA Students consists of 20 ladies and 10 guys who love to learn and solve problems\n"
     ]
    }
   ],
   "source": [
    "Ladies=20\n",
    "Guys=10\n",
    "Name='DSA Students'\n",
    "print(\"The\",Name,\"consists of\",Ladies,\"ladies and\",Guys,\"guys who love to learn and solve problems\")"
   ]
  },
  {
   "cell_type": "code",
   "execution_count": 2,
   "id": "f3e4bf1a",
   "metadata": {},
   "outputs": [],
   "source": [
    "DSC=40\n",
    "Females=25\n",
    "Males=15"
   ]
  },
  {
   "cell_type": "code",
   "execution_count": 3,
   "id": "e3aec01f",
   "metadata": {},
   "outputs": [
    {
     "name": "stdout",
     "output_type": "stream",
     "text": [
      "0.375\n"
     ]
    }
   ],
   "source": [
    "#Probability of Males dropping out\n",
    "\n",
    "Probability_of_Males=Males/DSC\n",
    "print(Probability_of_Males)"
   ]
  },
  {
   "cell_type": "code",
   "execution_count": 4,
   "id": "eca4e0fe",
   "metadata": {},
   "outputs": [
    {
     "name": "stdout",
     "output_type": "stream",
     "text": [
      "0.625\n"
     ]
    }
   ],
   "source": [
    "#Probability of Females dropping out\n",
    "Probability_of_Females=Females/DSC\n",
    "print(Probability_of_Females)"
   ]
  },
  {
   "cell_type": "code",
   "execution_count": 5,
   "id": "ceb3b7a0",
   "metadata": {},
   "outputs": [
    {
     "name": "stdout",
     "output_type": "stream",
     "text": [
      "50\n",
      "27\n",
      "23\n",
      "12.5\n"
     ]
    }
   ],
   "source": [
    "#Multiply,Add,Subtract and divide\n",
    "Multiply=Females*2\n",
    "Add=Females+2\n",
    "Subtract=Females-2\n",
    "Divide=Females/2\n",
    "print(Multiply)\n",
    "print(Add)\n",
    "print(Subtract)\n",
    "print(Divide)"
   ]
  },
  {
   "cell_type": "code",
   "execution_count": 6,
   "id": "54bef33d",
   "metadata": {},
   "outputs": [
    {
     "name": "stdout",
     "output_type": "stream",
     "text": [
      "Ama\n"
     ]
    }
   ],
   "source": [
    "x='Ama'\n",
    "print(x)"
   ]
  },
  {
   "cell_type": "code",
   "execution_count": 7,
   "id": "5d4c66a5",
   "metadata": {},
   "outputs": [
    {
     "name": "stdout",
     "output_type": "stream",
     "text": [
      "t\n",
      "ble\n",
      "table\n"
     ]
    }
   ],
   "source": [
    "str='table'\n",
    "print(str[0])\n",
    "print(str[2:5])\n",
    "print(str[:])\n"
   ]
  },
  {
   "cell_type": "code",
   "execution_count": 8,
   "id": "f7451d04",
   "metadata": {},
   "outputs": [
    {
     "data": {
      "text/plain": [
       "'ode'"
      ]
     },
     "execution_count": 8,
     "metadata": {},
     "output_type": "execute_result"
    }
   ],
   "source": [
    "a=['ama','kezia', 'ode']\n",
    "a[2]"
   ]
  },
  {
   "cell_type": "code",
   "execution_count": 9,
   "id": "704e8f2d",
   "metadata": {},
   "outputs": [
    {
     "data": {
      "text/plain": [
       "'e'"
      ]
     },
     "execution_count": 9,
     "metadata": {},
     "output_type": "execute_result"
    }
   ],
   "source": [
    "a[2][-1]"
   ]
  },
  {
   "cell_type": "code",
   "execution_count": 12,
   "id": "25347a62",
   "metadata": {},
   "outputs": [
    {
     "name": "stdout",
     "output_type": "stream",
     "text": [
      "Juice\n"
     ]
    }
   ],
   "source": [
    "A='Solobo'\n",
    "B= 'Honey'\n",
    "if A=='Sobolo':\n",
    "    print('Tasty')\n",
    "elif B=='Wine':\n",
    "     print('Exquisite')\n",
    "else:\n",
    "    print('Juice')\n"
   ]
  },
  {
   "cell_type": "code",
   "execution_count": null,
   "id": "33d6d7cc",
   "metadata": {},
   "outputs": [],
   "source": []
  }
 ],
 "metadata": {
  "kernelspec": {
   "display_name": "Python 3 (ipykernel)",
   "language": "python",
   "name": "python3"
  },
  "language_info": {
   "codemirror_mode": {
    "name": "ipython",
    "version": 3
   },
   "file_extension": ".py",
   "mimetype": "text/x-python",
   "name": "python",
   "nbconvert_exporter": "python",
   "pygments_lexer": "ipython3",
   "version": "3.9.12"
  }
 },
 "nbformat": 4,
 "nbformat_minor": 5
}
