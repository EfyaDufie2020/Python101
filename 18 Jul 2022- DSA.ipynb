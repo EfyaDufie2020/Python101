{
 "cells": [
  {
   "cell_type": "markdown",
   "id": "d024a695",
   "metadata": {},
   "source": [
    "# Lists"
   ]
  },
  {
   "cell_type": "code",
   "execution_count": 1,
   "id": "08028d87",
   "metadata": {},
   "outputs": [
    {
     "name": "stdout",
     "output_type": "stream",
     "text": [
      "handsome\n"
     ]
    }
   ],
   "source": [
    "str='hand'\n",
    "print(str+'some')\n"
   ]
  },
  {
   "cell_type": "code",
   "execution_count": 2,
   "id": "794e3a24",
   "metadata": {},
   "outputs": [
    {
     "name": "stdout",
     "output_type": "stream",
     "text": [
      "['Italy', 'Togo', 'Canada', 'Mali', 'Chad', 'Russia']\n",
      "Canada\n"
     ]
    }
   ],
   "source": [
    "DreamCountries=['Italy','Togo','Canada','Mali','Chad','Russia']\n",
    "print(DreamCountries)\n",
    "print(DreamCountries[-4])\n",
    "                 \n",
    "    "
   ]
  },
  {
   "cell_type": "code",
   "execution_count": 3,
   "id": "06454415",
   "metadata": {},
   "outputs": [
    {
     "name": "stdout",
     "output_type": "stream",
     "text": [
      "DreamCountries\n",
      "My Preferred Country is Canada\n"
     ]
    }
   ],
   "source": [
    "print('DreamCountries')\n",
    "print('My Preferred Country is', DreamCountries[2])"
   ]
  },
  {
   "cell_type": "code",
   "execution_count": 4,
   "id": "efc6a4df",
   "metadata": {},
   "outputs": [
    {
     "name": "stdout",
     "output_type": "stream",
     "text": [
      "['Italy', 'Nigeria', 'Canada', 'Mali', 'Chad', 'Russia']\n"
     ]
    }
   ],
   "source": [
    "DreamCountries[1]='Nigeria'\n",
    "print(DreamCountries)"
   ]
  },
  {
   "cell_type": "code",
   "execution_count": 5,
   "id": "492bb277",
   "metadata": {},
   "outputs": [
    {
     "name": "stdout",
     "output_type": "stream",
     "text": [
      "['Italy', 'Ghana', 'Nigeria', 'Canada', 'Mali', 'Chad', 'Russia']\n"
     ]
    }
   ],
   "source": [
    "DreamCountries.insert(1,'Ghana')\n",
    "print(DreamCountries)"
   ]
  },
  {
   "cell_type": "code",
   "execution_count": 6,
   "id": "30db7b81",
   "metadata": {},
   "outputs": [
    {
     "name": "stdout",
     "output_type": "stream",
     "text": [
      "[['T-Roll', 'Shower Gel', 'Fabric Softener'], ['Beef', 'Chicken', 'Chevon'], 'Yam']\n"
     ]
    }
   ],
   "source": [
    "Items_Bought_In_Melcom=[['T-Roll','Shower Gel','Fabric Softener'],['Beef','Chicken','Chevon'],'Yam']\n",
    "print(Items_Bought_In_Melcom)"
   ]
  },
  {
   "cell_type": "code",
   "execution_count": 7,
   "id": "053ef232",
   "metadata": {},
   "outputs": [
    {
     "name": "stdout",
     "output_type": "stream",
     "text": [
      "['physics', 'chemistry', 2001, 2000]\n"
     ]
    }
   ],
   "source": [
    "list=['physics','chemistry',1997,2000]\n",
    "list[2]=2001\n",
    "print(list)"
   ]
  },
  {
   "cell_type": "markdown",
   "id": "bc5f5756",
   "metadata": {},
   "source": [
    "# Append & Insert, Sort & Reverse"
   ]
  },
  {
   "cell_type": "code",
   "execution_count": 8,
   "id": "a2b5858f",
   "metadata": {},
   "outputs": [
    {
     "name": "stdout",
     "output_type": "stream",
     "text": [
      "['C++', 'Java', 'Python', 'JavaScript']\n"
     ]
    }
   ],
   "source": [
    "prog_lang=['C++','Java', 'Python']\n",
    "prog_lang.append('JavaScript')\n",
    "print(prog_lang)"
   ]
  },
  {
   "cell_type": "code",
   "execution_count": 9,
   "id": "562b7ff0",
   "metadata": {},
   "outputs": [
    {
     "name": "stdout",
     "output_type": "stream",
     "text": [
      "['C++', 'Java', 'R', 'JavaScript']\n"
     ]
    }
   ],
   "source": [
    "prog_lang[2]='R'\n",
    "print(prog_lang)"
   ]
  },
  {
   "cell_type": "code",
   "execution_count": 2,
   "id": "f2562d2e",
   "metadata": {},
   "outputs": [
    {
     "name": "stdout",
     "output_type": "stream",
     "text": [
      "['C++', 'Java', 'R', 'Python']\n"
     ]
    }
   ],
   "source": [
    "prog_lang=['C++','Java', 'Python']\n",
    "prog_lang.insert(2,'R')\n",
    "print(prog_lang)"
   ]
  },
  {
   "cell_type": "code",
   "execution_count": 3,
   "id": "04500fef",
   "metadata": {},
   "outputs": [
    {
     "name": "stdout",
     "output_type": "stream",
     "text": [
      "['maths', 'chemistry', 'physics']\n"
     ]
    }
   ],
   "source": [
    "subjects=['physics','chemistry','maths']\n",
    "subjects.reverse()\n",
    "print(subjects)"
   ]
  },
  {
   "cell_type": "code",
   "execution_count": 5,
   "id": "530686ae",
   "metadata": {},
   "outputs": [
    {
     "name": "stdout",
     "output_type": "stream",
     "text": [
      "['chemistry', 'maths', 'physics']\n",
      "['physics', 'maths', 'chemistry']\n"
     ]
    }
   ],
   "source": [
    "subjects.sort()\n",
    "print(subjects)\n",
    "subjects.sort(reverse=True)\n",
    "print(subjects)\n"
   ]
  },
  {
   "cell_type": "code",
   "execution_count": 18,
   "id": "0a424611",
   "metadata": {},
   "outputs": [
    {
     "name": "stdout",
     "output_type": "stream",
     "text": [
      "{'Toiletries': 'Shower Gel', 'Meat': ['Chicken', 'Beef', 'Chevon'], 'Tuber': 'Yam'}\n"
     ]
    }
   ],
   "source": [
    "ItemsBoughtAtMelcom={'Toiletries':'Shower Gel','Meat':['Chicken','Beef','Chevon'],'Tuber':'Yam'}\n",
    "print(ItemsBoughtAtMelcom)"
   ]
  },
  {
   "cell_type": "code",
   "execution_count": 12,
   "id": "eba6f146",
   "metadata": {},
   "outputs": [
    {
     "name": "stdout",
     "output_type": "stream",
     "text": [
      "Chevon\n"
     ]
    }
   ],
   "source": [
    "print(ItemsBoughtAtMelcom['Meat'][2])"
   ]
  },
  {
   "cell_type": "code",
   "execution_count": null,
   "id": "444494f1",
   "metadata": {},
   "outputs": [],
   "source": [
    "#Add items to Dictionary"
   ]
  },
  {
   "cell_type": "code",
   "execution_count": 21,
   "id": "d6d43a2e",
   "metadata": {},
   "outputs": [
    {
     "name": "stdout",
     "output_type": "stream",
     "text": [
      "{'Toiletries': 'Shower Gel', 'Meat': ['Chicken', 'Beef', 'Chevon'], 'Tuber': 'Yam', 'Drinks': ['Sobolo', 'Champagne']}\n"
     ]
    }
   ],
   "source": [
    "ItemsBoughtAtMelcom['Drinks']=['Sobolo','Champagne']\n",
    "print(ItemsBoughtAtMelcom)"
   ]
  },
  {
   "cell_type": "code",
   "execution_count": null,
   "id": "36a65a38",
   "metadata": {},
   "outputs": [],
   "source": []
  },
  {
   "cell_type": "markdown",
   "id": "fa10220d",
   "metadata": {},
   "source": [
    "# Delete"
   ]
  },
  {
   "cell_type": "code",
   "execution_count": 13,
   "id": "9b322805",
   "metadata": {},
   "outputs": [
    {
     "name": "stdout",
     "output_type": "stream",
     "text": [
      "{'Blue': 'Light Blue', 'Red': 'Spicy Red', 'Pink': 'Hot pink'}\n"
     ]
    }
   ],
   "source": [
    "Colours={'Blue':'Light Blue','Red':'Spicy Red','Pink':'Hot pink'}\n",
    "print(Colours)"
   ]
  },
  {
   "cell_type": "code",
   "execution_count": 14,
   "id": "f1277bc5",
   "metadata": {},
   "outputs": [
    {
     "name": "stdout",
     "output_type": "stream",
     "text": [
      "{'Blue': 'Light Blue', 'Pink': 'Hot pink'}\n"
     ]
    }
   ],
   "source": [
    "del Colours['Red']\n",
    "print(Colours)"
   ]
  },
  {
   "cell_type": "markdown",
   "id": "d29100bb",
   "metadata": {},
   "source": [
    "# Clear"
   ]
  },
  {
   "cell_type": "code",
   "execution_count": 16,
   "id": "a25c0cfa",
   "metadata": {},
   "outputs": [
    {
     "name": "stdout",
     "output_type": "stream",
     "text": [
      "{}\n"
     ]
    }
   ],
   "source": [
    "Colours.clear()\n",
    "print(Colours)"
   ]
  },
  {
   "cell_type": "code",
   "execution_count": null,
   "id": "fa59efd6",
   "metadata": {},
   "outputs": [],
   "source": []
  },
  {
   "cell_type": "code",
   "execution_count": null,
   "id": "47a6d76f",
   "metadata": {},
   "outputs": [],
   "source": []
  }
 ],
 "metadata": {
  "kernelspec": {
   "display_name": "Python 3 (ipykernel)",
   "language": "python",
   "name": "python3"
  },
  "language_info": {
   "codemirror_mode": {
    "name": "ipython",
    "version": 3
   },
   "file_extension": ".py",
   "mimetype": "text/x-python",
   "name": "python",
   "nbconvert_exporter": "python",
   "pygments_lexer": "ipython3",
   "version": "3.9.12"
  }
 },
 "nbformat": 4,
 "nbformat_minor": 5
}
