{
 "cells": [
  {
   "cell_type": "code",
   "execution_count": 1,
   "id": "57f9bf0f",
   "metadata": {},
   "outputs": [
    {
     "name": "stdout",
     "output_type": "stream",
     "text": [
      "The DSA Students consists of 20 ladies and 10 guys who love to learn and solve problems\n"
     ]
    }
   ],
   "source": [
    "Ladies=20\n",
    "Guys=10\n",
    "Name='DSA Students'\n",
    "print(\"The\",Name,\"consists of\",Ladies,\"ladies and\",Guys,\"guys who love to learn and solve problems\")"
   ]
  },
  {
   "cell_type": "code",
   "execution_count": 2,
   "id": "ff6c7feb",
   "metadata": {},
   "outputs": [],
   "source": [
    "DSC=40\n",
    "Females=25\n",
    "Males=15"
   ]
  },
  {
   "cell_type": "code",
   "execution_count": 15,
   "id": "b14760a5",
   "metadata": {},
   "outputs": [
    {
     "name": "stdout",
     "output_type": "stream",
     "text": [
      "0.375\n"
     ]
    }
   ],
   "source": [
    "#Probability of Males dropping out\n",
    "\n",
    "Probability_of_Males=Males/DSC\n",
    "print(Probability_of_Males)"
   ]
  },
  {
   "cell_type": "code",
   "execution_count": 16,
   "id": "dd37b3c3",
   "metadata": {},
   "outputs": [
    {
     "name": "stdout",
     "output_type": "stream",
     "text": [
      "0.625\n"
     ]
    }
   ],
   "source": [
    "#Probability of Females dropping out\n",
    "Probability_of_Females=Females/DSC\n",
    "print(Probability_of_Females)"
   ]
  },
  {
   "cell_type": "code",
   "execution_count": 17,
   "id": "2c986a12",
   "metadata": {},
   "outputs": [
    {
     "name": "stdout",
     "output_type": "stream",
     "text": [
      "50\n",
      "27\n",
      "23\n",
      "12.5\n"
     ]
    }
   ],
   "source": [
    "#Multiply,Add,Subtract and divide\n",
    "Multiply=Females*2\n",
    "Add=Females+2\n",
    "Subtract=Females-2\n",
    "Divide=Females/2\n",
    "print(Multiply)\n",
    "print(Add)\n",
    "print(Subtract)\n",
    "print(Divide)"
   ]
  },
  {
   "cell_type": "code",
   "execution_count": null,
   "id": "31f54d7b",
   "metadata": {},
   "outputs": [],
   "source": []
  }
 ],
 "metadata": {
  "kernelspec": {
   "display_name": "Python 3 (ipykernel)",
   "language": "python",
   "name": "python3"
  },
  "language_info": {
   "codemirror_mode": {
    "name": "ipython",
    "version": 3
   },
   "file_extension": ".py",
   "mimetype": "text/x-python",
   "name": "python",
   "nbconvert_exporter": "python",
   "pygments_lexer": "ipython3",
   "version": "3.9.12"
  }
 },
 "nbformat": 4,
 "nbformat_minor": 5
}
